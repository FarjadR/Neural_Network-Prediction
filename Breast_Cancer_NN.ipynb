{
 "cells": [
  {
   "cell_type": "markdown",
   "id": "cd67093d-1b8a-48a0-9f1d-fd08c3974323",
   "metadata": {},
   "source": [
    "## Imports"
   ]
  },
  {
   "cell_type": "code",
   "execution_count": 14,
   "id": "6a63a63e-f633-405f-8d93-efdf5845cbbb",
   "metadata": {},
   "outputs": [],
   "source": [
    "import torch\n",
    "import torch.nn as nn\n",
    "import torch.optim as optim\n",
    "from sklearn.datasets import load_breast_cancer\n",
    "from sklearn.model_selection import train_test_split\n",
    "from sklearn.preprocessing import StandardScaler\n",
    "cuda = torch.device(\"cuda\")"
   ]
  },
  {
   "cell_type": "markdown",
   "id": "f3d8a60a-d9b4-4534-a8f2-917d987618de",
   "metadata": {},
   "source": [
    "## Loading Source Data"
   ]
  },
  {
   "cell_type": "code",
   "execution_count": 15,
   "id": "bb7ea7da-69f4-40df-a803-af7660f0864e",
   "metadata": {},
   "outputs": [],
   "source": [
    "source_data = load_breast_cancer()\n",
    "\n",
    "X_data = source_data.data\n",
    "Y_data = source_data.target"
   ]
  },
  {
   "cell_type": "markdown",
   "id": "7b57790f-5c44-4648-b026-2363395383bf",
   "metadata": {},
   "source": [
    "## Data Preprocessing"
   ]
  },
  {
   "cell_type": "code",
   "execution_count": 16,
   "id": "1761a8b7-6613-4693-8999-eb66c21459e9",
   "metadata": {},
   "outputs": [],
   "source": [
    "X_train, X_test, Y_train, Y_test = train_test_split(X_data, Y_data, test_size = 0.25)"
   ]
  },
  {
   "cell_type": "code",
   "execution_count": 17,
   "id": "deea8fcd-728e-407a-92f4-4eb126187bb4",
   "metadata": {},
   "outputs": [],
   "source": [
    "scale = StandardScaler()"
   ]
  },
  {
   "cell_type": "code",
   "execution_count": 18,
   "id": "302dab1d-5a25-4a38-8408-88013c4e7404",
   "metadata": {},
   "outputs": [],
   "source": [
    "# Scaling\n",
    "X_train = scale.fit_transform(X_train)\n",
    "X_test = scale.transform(X_test)"
   ]
  },
  {
   "cell_type": "code",
   "execution_count": 19,
   "id": "2ff359a3-bbe9-4d6f-9269-7e63778df97a",
   "metadata": {},
   "outputs": [],
   "source": [
    "#To tensors\n",
    "X_train = torch.tensor(X_train, dtype=torch.float32).to(cuda)\n",
    "Y_train = torch.tensor(Y_train, dtype=torch.float32).to(cuda)\n",
    "X_test = torch.tensor(X_test, dtype=torch.float32).to(cuda)\n",
    "Y_test = torch.tensor(Y_test, dtype=torch.float32).to(cuda)"
   ]
  },
  {
   "cell_type": "markdown",
   "id": "46bcc53c-e92f-461a-8f70-5f41a37a2d38",
   "metadata": {},
   "source": [
    "## Neural Network"
   ]
  },
  {
   "cell_type": "code",
   "execution_count": 20,
   "id": "1a740894-4304-455a-8aae-250036783207",
   "metadata": {},
   "outputs": [],
   "source": [
    "#define the neural network architecture\n",
    "\n",
    "class NeuralNet(nn.Module):\n",
    "\n",
    "  def __init__(self, input_nodes, hidden_nodes, output_nodes):\n",
    "    super(NeuralNet, self).__init__()\n",
    "    self.fc1 = nn.Linear(input_nodes, hidden_nodes)\n",
    "    self.relu = nn.ReLU()\n",
    "    self.fc2 = nn.Linear(hidden_nodes, output_nodes)\n",
    "    self.sigmoid = nn.Sigmoid()\n",
    "\n",
    "  def forward(self, x):\n",
    "    out = self.fc1(x)\n",
    "    out = self.relu(out)\n",
    "    out = self.fc2(out)\n",
    "    out = self.sigmoid(out)\n",
    "    return out"
   ]
  },
  {
   "cell_type": "code",
   "execution_count": 21,
   "id": "567931d9-5392-4143-b1f6-cd45b36078ad",
   "metadata": {},
   "outputs": [],
   "source": [
    "#Hyperperameters\n",
    "input_nodes = X_train.shape[1]\n",
    "hidden_nodes = 64\n",
    "output_nodes = 1\n",
    "learning_rate = 0.001\n",
    "epochs = 1000"
   ]
  },
  {
   "cell_type": "code",
   "execution_count": 22,
   "id": "6e22dca8-43a0-4348-ad50-79722e677ae5",
   "metadata": {},
   "outputs": [],
   "source": [
    "model = NeuralNet(input_nodes, hidden_nodes, output_nodes).to(cuda)"
   ]
  },
  {
   "cell_type": "markdown",
   "id": "1f7e40f8-ad43-4559-b92e-22ca87bdb1a4",
   "metadata": {},
   "source": [
    "## Training Parameters and Training Loop"
   ]
  },
  {
   "cell_type": "code",
   "execution_count": 23,
   "id": "e13c61a7-3c52-4fdb-aca5-db0578833d3b",
   "metadata": {},
   "outputs": [],
   "source": [
    "# define loss and the optiizer\n",
    "criterion = nn.BCELoss()\n",
    "optimizer = optim.Adam(model.parameters(), lr=learning_rate)"
   ]
  },
  {
   "cell_type": "code",
   "execution_count": 24,
   "id": "fcd9e03a-29c1-4c07-9c2c-f5d603f6183b",
   "metadata": {},
   "outputs": [
    {
     "name": "stdout",
     "output_type": "stream",
     "text": [
      "Epoch [100/1000], Loss: 0.11125, Accuracy: 97.89%\n",
      "Epoch [200/1000], Loss: 0.06369, Accuracy: 98.59%\n",
      "Epoch [300/1000], Loss: 0.04666, Accuracy: 99.06%\n",
      "Epoch [400/1000], Loss: 0.03612, Accuracy: 99.3%\n",
      "Epoch [500/1000], Loss: 0.028, Accuracy: 99.3%\n",
      "Epoch [600/1000], Loss: 0.02152, Accuracy: 99.3%\n",
      "Epoch [700/1000], Loss: 0.01669, Accuracy: 99.3%\n",
      "Epoch [800/1000], Loss: 0.01309, Accuracy: 99.77%\n",
      "Epoch [900/1000], Loss: 0.01033, Accuracy: 100.0%\n",
      "Epoch [1000/1000], Loss: 0.00817, Accuracy: 100.0%\n"
     ]
    }
   ],
   "source": [
    "#Training loop\n",
    "for epoch in range(epochs):\n",
    "    model.train()\n",
    "    optimizer.zero_grad()\n",
    "    outputs = model(X_train)\n",
    "    loss = criterion(outputs, Y_train.view(-1, 1))\n",
    "    loss.backward()\n",
    "    optimizer.step()\n",
    "    \n",
    "    with torch.no_grad():\n",
    "        predicted = outputs.round()\n",
    "        correct = (predicted == Y_train.view(-1,1)).float().sum()\n",
    "        accuracy = correct/Y_train.size(0)\n",
    "    \n",
    "    if (epoch+1) % 100 == 0:\n",
    "        print(f'Epoch [{epoch+1}/{epochs}], Loss: {round(loss.item(), 5)}, Accuracy: {round(accuracy.item() * 100, 2)}%')"
   ]
  },
  {
   "cell_type": "markdown",
   "id": "d0eec98d-3564-42c8-8117-59850ba0c791",
   "metadata": {},
   "source": [
    "## Model evaluations"
   ]
  },
  {
   "cell_type": "code",
   "execution_count": 25,
   "id": "debf2257-6375-46ed-8c85-618537ed185e",
   "metadata": {},
   "outputs": [
    {
     "name": "stdout",
     "output_type": "stream",
     "text": [
      "Accuracy on training data: 100.0%\n"
     ]
    }
   ],
   "source": [
    "# evaluation on training set\n",
    "model.eval()\n",
    "with torch.no_grad():\n",
    "    outputs = model(X_train)\n",
    "    predicted = outputs.round()\n",
    "    correct = (predicted == Y_train.view(-1,1)).float().sum()\n",
    "    accuracy = correct/Y_train.size(0)\n",
    "    print(f\"Accuracy on training data: {round(accuracy.item() * 100, 2)}%\")"
   ]
  },
  {
   "cell_type": "code",
   "execution_count": 26,
   "id": "c6881aa8-9869-436f-95ee-14e502e68461",
   "metadata": {},
   "outputs": [
    {
     "name": "stdout",
     "output_type": "stream",
     "text": [
      "Accuracy on test data: 97.9%\n"
     ]
    }
   ],
   "source": [
    "# evaluation on test set\n",
    "model.eval()\n",
    "with torch.no_grad():\n",
    "    outputs = model(X_test)\n",
    "    predicted = outputs.round()\n",
    "    correct = (predicted == Y_test.view(-1,1)).float().sum()\n",
    "    accuracy = correct/Y_test.size(0)\n",
    "    print(f\"Accuracy on test data: {round(accuracy.item() * 100, 2)}%\")"
   ]
  }
 ],
 "metadata": {
  "kernelspec": {
   "display_name": "Python 3 (ipykernel)",
   "language": "python",
   "name": "python3"
  },
  "language_info": {
   "codemirror_mode": {
    "name": "ipython",
    "version": 3
   },
   "file_extension": ".py",
   "mimetype": "text/x-python",
   "name": "python",
   "nbconvert_exporter": "python",
   "pygments_lexer": "ipython3",
   "version": "3.10.9"
  }
 },
 "nbformat": 4,
 "nbformat_minor": 5
}
